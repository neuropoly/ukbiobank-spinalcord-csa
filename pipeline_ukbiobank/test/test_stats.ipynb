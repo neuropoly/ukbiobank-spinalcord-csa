{
 "cells": [
  {
   "cell_type": "markdown",
   "metadata": {},
   "source": [
    "# Statistical analysis of ukbiobank project"
   ]
  },
  {
   "cell_type": "code",
   "execution_count": 3,
   "metadata": {},
   "outputs": [
    {
     "data": {
      "text/html": [
       "<table>\n",
       "<thead><tr><th scope=col>Subject</th><th scope=col>Sex</th><th scope=col>Height</th><th scope=col>Weight</th><th scope=col>Intracranial.volume</th><th scope=col>Age</th><th scope=col>T1w_CSA</th><th scope=col>T2w_CSA</th></tr></thead>\n",
       "<tbody>\n",
       "\t<tr><td>1000032  </td><td>0        </td><td>156      </td><td>63.4     </td><td> 960606  </td><td>71       </td><td>46.74229 </td><td> 2.087007</td></tr>\n",
       "\t<tr><td>1000083  </td><td>1        </td><td>171      </td><td>66.1     </td><td>1114890  </td><td>71       </td><td>45.00229 </td><td>43.621736</td></tr>\n",
       "\t<tr><td>1000252  </td><td>1        </td><td>173      </td><td>85.7     </td><td>1253180  </td><td>75       </td><td>55.97319 </td><td>57.276836</td></tr>\n",
       "\t<tr><td>1000394  </td><td>1        </td><td>180      </td><td>80.9     </td><td>1427490  </td><td>70       </td><td>49.93978 </td><td>47.767867</td></tr>\n",
       "\t<tr><td>1000498  </td><td>0        </td><td>160      </td><td>50.9     </td><td>1083670  </td><td>58       </td><td>39.67688 </td><td>42.768688</td></tr>\n",
       "\t<tr><td>1000537  </td><td>0        </td><td>162      </td><td>59.8     </td><td>1018880  </td><td>77       </td><td>51.97979 </td><td>49.908099</td></tr>\n",
       "</tbody>\n",
       "</table>\n"
      ],
      "text/latex": [
       "\\begin{tabular}{r|llllllll}\n",
       " Subject & Sex & Height & Weight & Intracranial.volume & Age & T1w\\_CSA & T2w\\_CSA\\\\\n",
       "\\hline\n",
       "\t 1000032   & 0         & 156       & 63.4      &  960606   & 71        & 46.74229  &  2.087007\\\\\n",
       "\t 1000083   & 1         & 171       & 66.1      & 1114890   & 71        & 45.00229  & 43.621736\\\\\n",
       "\t 1000252   & 1         & 173       & 85.7      & 1253180   & 75        & 55.97319  & 57.276836\\\\\n",
       "\t 1000394   & 1         & 180       & 80.9      & 1427490   & 70        & 49.93978  & 47.767867\\\\\n",
       "\t 1000498   & 0         & 160       & 50.9      & 1083670   & 58        & 39.67688  & 42.768688\\\\\n",
       "\t 1000537   & 0         & 162       & 59.8      & 1018880   & 77        & 51.97979  & 49.908099\\\\\n",
       "\\end{tabular}\n"
      ],
      "text/markdown": [
       "\n",
       "| Subject | Sex | Height | Weight | Intracranial.volume | Age | T1w_CSA | T2w_CSA |\n",
       "|---|---|---|---|---|---|---|---|\n",
       "| 1000032   | 0         | 156       | 63.4      |  960606   | 71        | 46.74229  |  2.087007 |\n",
       "| 1000083   | 1         | 171       | 66.1      | 1114890   | 71        | 45.00229  | 43.621736 |\n",
       "| 1000252   | 1         | 173       | 85.7      | 1253180   | 75        | 55.97319  | 57.276836 |\n",
       "| 1000394   | 1         | 180       | 80.9      | 1427490   | 70        | 49.93978  | 47.767867 |\n",
       "| 1000498   | 0         | 160       | 50.9      | 1083670   | 58        | 39.67688  | 42.768688 |\n",
       "| 1000537   | 0         | 162       | 59.8      | 1018880   | 77        | 51.97979  | 49.908099 |\n",
       "\n"
      ],
      "text/plain": [
       "  Subject Sex Height Weight Intracranial.volume Age T1w_CSA  T2w_CSA  \n",
       "1 1000032 0   156    63.4    960606             71  46.74229  2.087007\n",
       "2 1000083 1   171    66.1   1114890             71  45.00229 43.621736\n",
       "3 1000252 1   173    85.7   1253180             75  55.97319 57.276836\n",
       "4 1000394 1   180    80.9   1427490             70  49.93978 47.767867\n",
       "5 1000498 0   160    50.9   1083670             58  39.67688 42.768688\n",
       "6 1000537 0   162    59.8   1018880             77  51.97979 49.908099"
      ]
     },
     "metadata": {},
     "output_type": "display_data"
    }
   ],
   "source": [
    "setwd('C:/Users/sb199/Projet3_data/')\n",
    "data<-read.csv(file = 'data_ukbiobank.csv')\n",
    "head(data)"
   ]
  },
  {
   "cell_type": "code",
   "execution_count": 4,
   "metadata": {},
   "outputs": [],
   "source": [
    "T1w_CSA <- data$T1w_CSA\n",
    "T2w_CSA <- data$T2w_CSA\n",
    "sex <- data$Sex\n",
    "height <- data$Height\n",
    "weight <-data$Weight\n",
    "intracranial.volume <- data$Intracranial.volume\n",
    "age <- data$Age"
   ]
  },
  {
   "cell_type": "markdown",
   "metadata": {},
   "source": [
    "## Validation of normal distribution of CSA\n",
    "\n",
    "Validation of the hypothesis that CSA follows a normal distribution"
   ]
  },
  {
   "cell_type": "code",
   "execution_count": 5,
   "metadata": {},
   "outputs": [
    {
     "data": {
      "text/plain": [
       "\n",
       "\tShapiro-Wilk normality test\n",
       "\n",
       "data:  T1w_CSA\n",
       "W = 0.97456, p-value = 0.9296\n"
      ]
     },
     "metadata": {},
     "output_type": "display_data"
    },
    {
     "data": {
      "image/png": "[encoded data removed]",
      "text/plain": [
       "Plot with title \"Normal Q-Q Plot\""
      ]
     },
     "metadata": {},
     "output_type": "display_data"
    }
   ],
   "source": [
    "#Q-Q plot for T1w CSA\n",
    "qqnorm(T1w_CSA)\n",
    "qqline(T1w_CSA, col=\"red\", lwd=2)\n",
    "#Shapiro wilik normlaity test\n",
    "shapiro.test(T1w_CSA)"
   ]
  },
  {
   "cell_type": "code",
   "execution_count": 6,
   "metadata": {},
   "outputs": [
    {
     "data": {
      "text/plain": [
       "\n",
       "\tShapiro-Wilk normality test\n",
       "\n",
       "data:  T2w_CSA\n",
       "W = 0.65487, p-value = 0.0002512\n"
      ]
     },
     "metadata": {},
     "output_type": "display_data"
    },
    {
     "data": {
      "image/png": "[encoded data removed]",
      "text/plain": [
       "Plot with title \"Normal Q-Q Plot\""
      ]
     },
     "metadata": {},
     "output_type": "display_data"
    }
   ],
   "source": [
    "#Q-Q plot for T2w CSA\n",
    "qqnorm(T2w_CSA)\n",
    "qqline(T2w_CSA, col=\"red\", lwd=2)\n",
    "#Shapiro wilik normlaity test\n",
    "shapiro.test(T2w_CSA)"
   ]
  },
  {
   "cell_type": "markdown",
   "metadata": {},
   "source": [
    "## Metrics of CSA"
   ]
  },
  {
   "cell_type": "code",
   "execution_count": 7,
   "metadata": {},
   "outputs": [],
   "source": [
    "summary = summary(data)\n",
    "metrics_CSA = data.frame(\n",
    "    Metrics=c(\"T1w_CSA\", \"T2w_CSA\"),\n",
    "    number_of_subjects = NA,\n",
    "    mean=NA, \n",
    "    std=NA,\n",
    "    med=NA,\n",
    "    COV=NA,\n",
    "    max= NA,\n",
    "    min= NA,\n",
    "    ci95 = NA)"
   ]
  },
  {
   "cell_type": "code",
   "execution_count": 8,
   "metadata": {},
   "outputs": [],
   "source": [
    "metrics_CSA$number_of_subjects = c(length(T1w_CSA), length(T2w_CSA))\n",
    "#mean\n",
    "metrics_CSA$mean = c(mean(T1w_CSA), mean(T2w_CSA))\n",
    "#std\n",
    "metrics_CSA$std = c(sd(T1w_CSA),sd(T2w_CSA))\n",
    "#mediane\n",
    "metrics_CSA$med = c(median(T1w_CSA),median(T2w_CSA))\n",
    "#COV\n",
    "metrics_CSA$COV = c(sd(T1w_CSA)/mean((T1w_CSA)),sd(T2w_CSA)/mean(T2w_CSA))\n",
    "#Max\n",
    "metrics_CSA$max = c(max(T1w_CSA),max(T2w_CSA))\n",
    "#Min\n",
    "metrics_CSA$min = c(min(T1w_CSA),min(T2w_CSA))\n",
    "# 95% confidence interval\n",
    "t_T1w = t.test(T1w_CSA)\n",
    "t_T2w = t.test(T1w_CSA)\n",
    "metrics_CSA$ci95 = c(t_T1w$conf.int[1], t_T2w$conf.int[1])"
   ]
  },
  {
   "cell_type": "code",
   "execution_count": 9,
   "metadata": {},
   "outputs": [
    {
     "data": {
      "text/html": [
       "<table>\n",
       "<thead><tr><th scope=col>Metrics</th><th scope=col>number_of_subjects</th><th scope=col>mean</th><th scope=col>std</th><th scope=col>med</th><th scope=col>COV</th><th scope=col>max</th><th scope=col>min</th><th scope=col>ci95</th></tr></thead>\n",
       "<tbody>\n",
       "\t<tr><td>T1w_CSA  </td><td>10       </td><td>47.35035 </td><td> 4.977934</td><td>46.30958 </td><td>0.1051298</td><td>55.97319 </td><td>39.676876</td><td>43.78935 </td></tr>\n",
       "\t<tr><td>T2w_CSA  </td><td>10       </td><td>42.85756 </td><td>15.005904</td><td>46.77737 </td><td>0.3501343</td><td>57.27684 </td><td> 2.087007</td><td>43.78935 </td></tr>\n",
       "</tbody>\n",
       "</table>\n"
      ],
      "text/latex": [
       "\\begin{tabular}{r|lllllllll}\n",
       " Metrics & number\\_of\\_subjects & mean & std & med & COV & max & min & ci95\\\\\n",
       "\\hline\n",
       "\t T1w\\_CSA & 10        & 47.35035  &  4.977934 & 46.30958  & 0.1051298 & 55.97319  & 39.676876 & 43.78935 \\\\\n",
       "\t T2w\\_CSA & 10        & 42.85756  & 15.005904 & 46.77737  & 0.3501343 & 57.27684  &  2.087007 & 43.78935 \\\\\n",
       "\\end{tabular}\n"
      ],
      "text/markdown": [
       "\n",
       "| Metrics | number_of_subjects | mean | std | med | COV | max | min | ci95 |\n",
       "|---|---|---|---|---|---|---|---|---|\n",
       "| T1w_CSA   | 10        | 47.35035  |  4.977934 | 46.30958  | 0.1051298 | 55.97319  | 39.676876 | 43.78935  |\n",
       "| T2w_CSA   | 10        | 42.85756  | 15.005904 | 46.77737  | 0.3501343 | 57.27684  |  2.087007 | 43.78935  |\n",
       "\n"
      ],
      "text/plain": [
       "  Metrics number_of_subjects mean     std       med      COV       max     \n",
       "1 T1w_CSA 10                 47.35035  4.977934 46.30958 0.1051298 55.97319\n",
       "2 T2w_CSA 10                 42.85756 15.005904 46.77737 0.3501343 57.27684\n",
       "  min       ci95    \n",
       "1 39.676876 43.78935\n",
       "2  2.087007 43.78935"
      ]
     },
     "metadata": {},
     "output_type": "display_data"
    }
   ],
   "source": [
    "metrics_CSA"
   ]
  },
  {
   "cell_type": "code",
   "execution_count": 10,
   "metadata": {},
   "outputs": [
    {
     "data": {
      "text/html": [
       "<table>\n",
       "<thead><tr><th scope=col>Predictor</th><th scope=col>mean</th><th scope=col>med</th><th scope=col>max</th><th scope=col>min</th></tr></thead>\n",
       "<tbody>\n",
       "\t<tr><td>Height             </td><td>    166.50         </td><td>    166.50         </td><td>    180.0          </td><td>   151.0           </td></tr>\n",
       "\t<tr><td>Weight             </td><td>     70.64         </td><td>     71.85         </td><td>     85.7          </td><td>    50.9           </td></tr>\n",
       "\t<tr><td>Intracranial.volume</td><td>1106706.90         </td><td>1099280.00         </td><td>1427490.0          </td><td>893723.0           </td></tr>\n",
       "\t<tr><td>Age                </td><td>     71.80         </td><td>     71.50         </td><td>     82.0          </td><td>    58.0           </td></tr>\n",
       "</tbody>\n",
       "</table>\n"
      ],
      "text/latex": [
       "\\begin{tabular}{r|lllll}\n",
       " Predictor & mean & med & max & min\\\\\n",
       "\\hline\n",
       "\t Height              &     166.50          &     166.50          &     180.0           &    151.0           \\\\\n",
       "\t Weight              &      70.64          &      71.85          &      85.7           &     50.9           \\\\\n",
       "\t Intracranial.volume & 1106706.90          & 1099280.00          & 1427490.0           & 893723.0           \\\\\n",
       "\t Age                 &      71.80          &      71.50          &      82.0           &     58.0           \\\\\n",
       "\\end{tabular}\n"
      ],
      "text/markdown": [
       "\n",
       "| Predictor | mean | med | max | min |\n",
       "|---|---|---|---|---|\n",
       "| Height              |     166.50          |     166.50          |     180.0           |    151.0            |\n",
       "| Weight              |      70.64          |      71.85          |      85.7           |     50.9            |\n",
       "| Intracranial.volume | 1106706.90          | 1099280.00          | 1427490.0           | 893723.0            |\n",
       "| Age                 |      71.80          |      71.50          |      82.0           |     58.0            |\n",
       "\n"
      ],
      "text/plain": [
       "  Predictor           mean       med        max       min     \n",
       "1 Height                  166.50     166.50     180.0    151.0\n",
       "2 Weight                   70.64      71.85      85.7     50.9\n",
       "3 Intracranial.volume 1106706.90 1099280.00 1427490.0 893723.0\n",
       "4 Age                      71.80      71.50      82.0     58.0"
      ]
     },
     "metadata": {},
     "output_type": "display_data"
    }
   ],
   "source": [
    "metrics_predictors = data.frame(\n",
    "    Predictor =c(\"Height\", \"Weight\", 'Intracranial.volume', 'Age'),\n",
    "    mean= NA,\n",
    "    med=NA,\n",
    "    max= NA,\n",
    "    min= NA)\n",
    "\n",
    "#sapply(data[3:6], mean)\n",
    "metrics_predictors$mean = sapply(data[3:6], mean)[1:4]\n",
    "metrics_predictors$med = sapply(data[3:6], median)[1:4]\n",
    "metrics_predictors$min =  sapply(data[3:6], min)[1:4]\n",
    "metrics_predictors$max =  sapply(data[3:6], max)[1:4]\n",
    "\n",
    "metrics_predictors"
   ]
  },
  {
   "cell_type": "markdown",
   "metadata": {},
   "source": [
    "## Test of mean equality of T1w and T2w CSA"
   ]
  },
  {
   "cell_type": "code",
   "execution_count": 11,
   "metadata": {},
   "outputs": [
    {
     "data": {
      "text/plain": [
       "\n",
       "\tWelch Two Sample t-test\n",
       "\n",
       "data:  T1w_CSA and T1w_CSA\n",
       "t = 0, df = 18, p-value = 1\n",
       "alternative hypothesis: true difference in means is not equal to 0\n",
       "95 percent confidence interval:\n",
       " -4.677072  4.677072\n",
       "sample estimates:\n",
       "mean of x mean of y \n",
       " 47.35035  47.35035 \n"
      ]
     },
     "metadata": {},
     "output_type": "display_data"
    }
   ],
   "source": [
    "t.test( T1w_CSA, T1w_CSA, alternative = \"two.sided\")"
   ]
  },
  {
   "cell_type": "markdown",
   "metadata": {},
   "source": [
    "on ne rejette pas l'hypothèse nulle que la différence entre les moyennes est nulle"
   ]
  },
  {
   "cell_type": "markdown",
   "metadata": {},
   "source": [
    "## Correlation matrix"
   ]
  },
  {
   "cell_type": "code",
   "execution_count": 12,
   "metadata": {},
   "outputs": [
    {
     "data": {
      "text/html": [
       "<table>\n",
       "<thead><tr><th></th><th scope=col>Subject</th><th scope=col>Sex</th><th scope=col>Height</th><th scope=col>Weight</th><th scope=col>Intracranial.volume</th><th scope=col>Age</th><th scope=col>T1w_CSA</th><th scope=col>T2w_CSA</th></tr></thead>\n",
       "<tbody>\n",
       "\t<tr><th scope=row>Subject</th><td> 1.00000000</td><td>-0.3392662 </td><td> 0.1600418 </td><td>0.1585228  </td><td>-0.25568500</td><td> 0.17160222</td><td>-0.04530331</td><td>0.3921527  </td></tr>\n",
       "\t<tr><th scope=row>Sex</th><td>-0.33926616</td><td> 1.0000000 </td><td> 0.7396199 </td><td>0.5123925  </td><td> 0.72888452</td><td>-0.19774527</td><td> 0.22833577</td><td>0.3301216  </td></tr>\n",
       "\t<tr><th scope=row>Height</th><td> 0.16004182</td><td> 0.7396199 </td><td> 1.0000000 </td><td>0.4077371  </td><td> 0.60750271</td><td>-0.17817186</td><td> 0.39868494</td><td>0.4376355  </td></tr>\n",
       "\t<tr><th scope=row>Weight</th><td> 0.15852281</td><td> 0.5123925 </td><td> 0.4077371 </td><td>1.0000000  </td><td> 0.42072962</td><td> 0.38775207</td><td> 0.41758824</td><td>0.3427538  </td></tr>\n",
       "\t<tr><th scope=row>Intracranial.volume</th><td>-0.25568500</td><td> 0.7288845 </td><td> 0.6075027 </td><td>0.4207296  </td><td> 1.00000000</td><td>-0.05783164</td><td> 0.36412527</td><td>0.4428448  </td></tr>\n",
       "\t<tr><th scope=row>Age</th><td> 0.17160222</td><td>-0.1977453 </td><td>-0.1781719 </td><td>0.3877521  </td><td>-0.05783164</td><td> 1.00000000</td><td> 0.61783946</td><td>0.1902871  </td></tr>\n",
       "\t<tr><th scope=row>T1w_CSA</th><td>-0.04530331</td><td> 0.2283358 </td><td> 0.3986849 </td><td>0.4175882  </td><td> 0.36412527</td><td> 0.61783946</td><td> 1.00000000</td><td>0.3142490  </td></tr>\n",
       "\t<tr><th scope=row>T2w_CSA</th><td> 0.39215267</td><td> 0.3301216 </td><td> 0.4376355 </td><td>0.3427538  </td><td> 0.44284485</td><td> 0.19028713</td><td> 0.31424902</td><td>1.0000000  </td></tr>\n",
       "</tbody>\n",
       "</table>\n"
      ],
      "text/latex": [
       "\\begin{tabular}{r|llllllll}\n",
       "  & Subject & Sex & Height & Weight & Intracranial.volume & Age & T1w\\_CSA & T2w\\_CSA\\\\\n",
       "\\hline\n",
       "\tSubject &  1.00000000 & -0.3392662  &  0.1600418  & 0.1585228   & -0.25568500 &  0.17160222 & -0.04530331 & 0.3921527  \\\\\n",
       "\tSex & -0.33926616 &  1.0000000  &  0.7396199  & 0.5123925   &  0.72888452 & -0.19774527 &  0.22833577 & 0.3301216  \\\\\n",
       "\tHeight &  0.16004182 &  0.7396199  &  1.0000000  & 0.4077371   &  0.60750271 & -0.17817186 &  0.39868494 & 0.4376355  \\\\\n",
       "\tWeight &  0.15852281 &  0.5123925  &  0.4077371  & 1.0000000   &  0.42072962 &  0.38775207 &  0.41758824 & 0.3427538  \\\\\n",
       "\tIntracranial.volume & -0.25568500 &  0.7288845  &  0.6075027  & 0.4207296   &  1.00000000 & -0.05783164 &  0.36412527 & 0.4428448  \\\\\n",
       "\tAge &  0.17160222 & -0.1977453  & -0.1781719  & 0.3877521   & -0.05783164 &  1.00000000 &  0.61783946 & 0.1902871  \\\\\n",
       "\tT1w\\_CSA & -0.04530331 &  0.2283358  &  0.3986849  & 0.4175882   &  0.36412527 &  0.61783946 &  1.00000000 & 0.3142490  \\\\\n",
       "\tT2w\\_CSA &  0.39215267 &  0.3301216  &  0.4376355  & 0.3427538   &  0.44284485 &  0.19028713 &  0.31424902 & 1.0000000  \\\\\n",
       "\\end{tabular}\n"
      ],
      "text/markdown": [
       "\n",
       "| <!--/--> | Subject | Sex | Height | Weight | Intracranial.volume | Age | T1w_CSA | T2w_CSA |\n",
       "|---|---|---|---|---|---|---|---|---|\n",
       "| Subject |  1.00000000 | -0.3392662  |  0.1600418  | 0.1585228   | -0.25568500 |  0.17160222 | -0.04530331 | 0.3921527   |\n",
       "| Sex | -0.33926616 |  1.0000000  |  0.7396199  | 0.5123925   |  0.72888452 | -0.19774527 |  0.22833577 | 0.3301216   |\n",
       "| Height |  0.16004182 |  0.7396199  |  1.0000000  | 0.4077371   |  0.60750271 | -0.17817186 |  0.39868494 | 0.4376355   |\n",
       "| Weight |  0.15852281 |  0.5123925  |  0.4077371  | 1.0000000   |  0.42072962 |  0.38775207 |  0.41758824 | 0.3427538   |\n",
       "| Intracranial.volume | -0.25568500 |  0.7288845  |  0.6075027  | 0.4207296   |  1.00000000 | -0.05783164 |  0.36412527 | 0.4428448   |\n",
       "| Age |  0.17160222 | -0.1977453  | -0.1781719  | 0.3877521   | -0.05783164 |  1.00000000 |  0.61783946 | 0.1902871   |\n",
       "| T1w_CSA | -0.04530331 |  0.2283358  |  0.3986849  | 0.4175882   |  0.36412527 |  0.61783946 |  1.00000000 | 0.3142490   |\n",
       "| T2w_CSA |  0.39215267 |  0.3301216  |  0.4376355  | 0.3427538   |  0.44284485 |  0.19028713 |  0.31424902 | 1.0000000   |\n",
       "\n"
      ],
      "text/plain": [
       "                    Subject     Sex        Height     Weight   \n",
       "Subject              1.00000000 -0.3392662  0.1600418 0.1585228\n",
       "Sex                 -0.33926616  1.0000000  0.7396199 0.5123925\n",
       "Height               0.16004182  0.7396199  1.0000000 0.4077371\n",
       "Weight               0.15852281  0.5123925  0.4077371 1.0000000\n",
       "Intracranial.volume -0.25568500  0.7288845  0.6075027 0.4207296\n",
       "Age                  0.17160222 -0.1977453 -0.1781719 0.3877521\n",
       "T1w_CSA             -0.04530331  0.2283358  0.3986849 0.4175882\n",
       "T2w_CSA              0.39215267  0.3301216  0.4376355 0.3427538\n",
       "                    Intracranial.volume Age         T1w_CSA     T2w_CSA  \n",
       "Subject             -0.25568500          0.17160222 -0.04530331 0.3921527\n",
       "Sex                  0.72888452         -0.19774527  0.22833577 0.3301216\n",
       "Height               0.60750271         -0.17817186  0.39868494 0.4376355\n",
       "Weight               0.42072962          0.38775207  0.41758824 0.3427538\n",
       "Intracranial.volume  1.00000000         -0.05783164  0.36412527 0.4428448\n",
       "Age                 -0.05783164          1.00000000  0.61783946 0.1902871\n",
       "T1w_CSA              0.36412527          0.61783946  1.00000000 0.3142490\n",
       "T2w_CSA              0.44284485          0.19028713  0.31424902 1.0000000"
      ]
     },
     "metadata": {},
     "output_type": "display_data"
    }
   ],
   "source": [
    "cor(data)"
   ]
  },
  {
   "cell_type": "markdown",
   "metadata": {},
   "source": [
    "## Multivariate model"
   ]
  },
  {
   "cell_type": "code",
   "execution_count": 13,
   "metadata": {},
   "outputs": [
    {
     "data": {
      "text/plain": [
       "\n",
       "Call:\n",
       "lm(formula = T1w_CSA ~ sex + height + weight + intracranial.volume + \n",
       "    age)\n",
       "\n",
       "Residuals:\n",
       "      1       2       3       4       5       6       7       8       9      10 \n",
       " 2.8563 -2.7869  5.5755 -1.0997  0.3178  2.5170 -3.3607 -1.6890 -1.2888 -1.0415 \n",
       "\n",
       "Coefficients:\n",
       "                      Estimate Std. Error t value Pr(>|t|)\n",
       "(Intercept)         -4.077e+01  3.882e+01  -1.050    0.353\n",
       "sex                 -1.089e+00  5.272e+00  -0.207    0.846\n",
       "height               2.695e-01  2.157e-01   1.250    0.280\n",
       "weight              -5.838e-02  1.882e-01  -0.310    0.772\n",
       "intracranial.volume  7.179e-06  1.392e-05   0.516    0.633\n",
       "age                  5.552e-01  2.649e-01   2.096    0.104\n",
       "\n",
       "Residual standard error: 4.229 on 4 degrees of freedom\n",
       "Multiple R-squared:  0.6792,\tAdjusted R-squared:  0.2781 \n",
       "F-statistic: 1.694 on 5 and 4 DF,  p-value: 0.315\n"
      ]
     },
     "metadata": {},
     "output_type": "display_data"
    },
    {
     "data": {
      "text/html": [
       "<table>\n",
       "<thead><tr><th></th><th scope=col>Df</th><th scope=col>Sum Sq</th><th scope=col>Mean Sq</th><th scope=col>F value</th><th scope=col>Pr(&gt;F)</th></tr></thead>\n",
       "<tbody>\n",
       "\t<tr><th scope=row>sex</th><td>1        </td><td>11.62756 </td><td>11.62756 </td><td>0.6500345</td><td>0.4653029</td></tr>\n",
       "\t<tr><th scope=row>height</th><td>1        </td><td>26.00106 </td><td>26.00106 </td><td>1.4535794</td><td>0.2943948</td></tr>\n",
       "\t<tr><th scope=row>weight</th><td>1        </td><td>24.79773 </td><td>24.79773 </td><td>1.3863078</td><td>0.3043024</td></tr>\n",
       "\t<tr><th scope=row>intracranial.volume</th><td>1        </td><td>10.47153 </td><td>10.47153 </td><td>0.5854069</td><td>0.4868496</td></tr>\n",
       "\t<tr><th scope=row>age</th><td>1        </td><td>78.57013 </td><td>78.57013 </td><td>4.3924334</td><td>0.1041445</td></tr>\n",
       "\t<tr><th scope=row>Residuals</th><td>4        </td><td>71.55044 </td><td>17.88761 </td><td>       NA</td><td>       NA</td></tr>\n",
       "</tbody>\n",
       "</table>\n"
      ],
      "text/latex": [
       "\\begin{tabular}{r|lllll}\n",
       "  & Df & Sum Sq & Mean Sq & F value & Pr(>F)\\\\\n",
       "\\hline\n",
       "\tsex & 1         & 11.62756  & 11.62756  & 0.6500345 & 0.4653029\\\\\n",
       "\theight & 1         & 26.00106  & 26.00106  & 1.4535794 & 0.2943948\\\\\n",
       "\tweight & 1         & 24.79773  & 24.79773  & 1.3863078 & 0.3043024\\\\\n",
       "\tintracranial.volume & 1         & 10.47153  & 10.47153  & 0.5854069 & 0.4868496\\\\\n",
       "\tage & 1         & 78.57013  & 78.57013  & 4.3924334 & 0.1041445\\\\\n",
       "\tResiduals & 4         & 71.55044  & 17.88761  &        NA &        NA\\\\\n",
       "\\end{tabular}\n"
      ],
      "text/markdown": [
       "\n",
       "| <!--/--> | Df | Sum Sq | Mean Sq | F value | Pr(>F) |\n",
       "|---|---|---|---|---|---|\n",
       "| sex | 1         | 11.62756  | 11.62756  | 0.6500345 | 0.4653029 |\n",
       "| height | 1         | 26.00106  | 26.00106  | 1.4535794 | 0.2943948 |\n",
       "| weight | 1         | 24.79773  | 24.79773  | 1.3863078 | 0.3043024 |\n",
       "| intracranial.volume | 1         | 10.47153  | 10.47153  | 0.5854069 | 0.4868496 |\n",
       "| age | 1         | 78.57013  | 78.57013  | 4.3924334 | 0.1041445 |\n",
       "| Residuals | 4         | 71.55044  | 17.88761  |        NA |        NA |\n",
       "\n"
      ],
      "text/plain": [
       "                    Df Sum Sq   Mean Sq  F value   Pr(>F)   \n",
       "sex                 1  11.62756 11.62756 0.6500345 0.4653029\n",
       "height              1  26.00106 26.00106 1.4535794 0.2943948\n",
       "weight              1  24.79773 24.79773 1.3863078 0.3043024\n",
       "intracranial.volume 1  10.47153 10.47153 0.5854069 0.4868496\n",
       "age                 1  78.57013 78.57013 4.3924334 0.1041445\n",
       "Residuals           4  71.55044 17.88761        NA        NA"
      ]
     },
     "metadata": {},
     "output_type": "display_data"
    },
    {
     "data": {
      "text/plain": [
       "\n",
       "Call:\n",
       "lm(formula = T2w_CSA ~ sex + height + weight + intracranial.volume + \n",
       "    age)\n",
       "\n",
       "Residuals:\n",
       "      1       2       3       4       5       6       7       8       9      10 \n",
       "-30.968   1.684   6.266 -10.243  10.685   8.675   5.972   2.292   6.841  -1.205 \n",
       "\n",
       "Coefficients:\n",
       "                      Estimate Std. Error t value Pr(>|t|)\n",
       "(Intercept)         -1.304e+02  1.708e+02  -0.764    0.488\n",
       "sex                 -5.216e+00  2.319e+01  -0.225    0.833\n",
       "height               5.918e-01  9.487e-01   0.624    0.567\n",
       "weight               7.097e-02  8.279e-01   0.086    0.936\n",
       "intracranial.volume  3.261e-05  6.123e-05   0.533    0.623\n",
       "age                  4.972e-01  1.165e+00   0.427    0.692\n",
       "\n",
       "Residual standard error: 18.61 on 4 degrees of freedom\n",
       "Multiple R-squared:  0.3168,\tAdjusted R-squared:  -0.5372 \n",
       "F-statistic: 0.3709 on 5 and 4 DF,  p-value: 0.847\n"
      ]
     },
     "metadata": {},
     "output_type": "display_data"
    },
    {
     "data": {
      "text/html": [
       "<table>\n",
       "<thead><tr><th></th><th scope=col>Df</th><th scope=col>Sum Sq</th><th scope=col>Mean Sq</th><th scope=col>F value</th><th scope=col>Pr(&gt;F)</th></tr></thead>\n",
       "<tbody>\n",
       "\t<tr><th scope=row>sex</th><td>1         </td><td> 220.85886</td><td>220.85886 </td><td>0.6380466 </td><td>0.4691598 </td></tr>\n",
       "\t<tr><th scope=row>height</th><td>1         </td><td> 167.46968</td><td>167.46968 </td><td>0.4838088 </td><td>0.5249969 </td></tr>\n",
       "\t<tr><th scope=row>weight</th><td>1         </td><td>  71.69192</td><td> 71.69192 </td><td>0.2071132 </td><td>0.6726463 </td></tr>\n",
       "\t<tr><th scope=row>intracranial.volume</th><td>1         </td><td> 118.97410</td><td>118.97410 </td><td>0.3437082 </td><td>0.5891841 </td></tr>\n",
       "\t<tr><th scope=row>age</th><td>1         </td><td>  63.00576</td><td> 63.00576 </td><td>0.1820194 </td><td>0.6916030 </td></tr>\n",
       "\t<tr><th scope=row>Residuals</th><td>4         </td><td>1384.59404</td><td>346.14851 </td><td>       NA </td><td>       NA </td></tr>\n",
       "</tbody>\n",
       "</table>\n"
      ],
      "text/latex": [
       "\\begin{tabular}{r|lllll}\n",
       "  & Df & Sum Sq & Mean Sq & F value & Pr(>F)\\\\\n",
       "\\hline\n",
       "\tsex & 1          &  220.85886 & 220.85886  & 0.6380466  & 0.4691598 \\\\\n",
       "\theight & 1          &  167.46968 & 167.46968  & 0.4838088  & 0.5249969 \\\\\n",
       "\tweight & 1          &   71.69192 &  71.69192  & 0.2071132  & 0.6726463 \\\\\n",
       "\tintracranial.volume & 1          &  118.97410 & 118.97410  & 0.3437082  & 0.5891841 \\\\\n",
       "\tage & 1          &   63.00576 &  63.00576  & 0.1820194  & 0.6916030 \\\\\n",
       "\tResiduals & 4          & 1384.59404 & 346.14851  &        NA  &        NA \\\\\n",
       "\\end{tabular}\n"
      ],
      "text/markdown": [
       "\n",
       "| <!--/--> | Df | Sum Sq | Mean Sq | F value | Pr(>F) |\n",
       "|---|---|---|---|---|---|\n",
       "| sex | 1          |  220.85886 | 220.85886  | 0.6380466  | 0.4691598  |\n",
       "| height | 1          |  167.46968 | 167.46968  | 0.4838088  | 0.5249969  |\n",
       "| weight | 1          |   71.69192 |  71.69192  | 0.2071132  | 0.6726463  |\n",
       "| intracranial.volume | 1          |  118.97410 | 118.97410  | 0.3437082  | 0.5891841  |\n",
       "| age | 1          |   63.00576 |  63.00576  | 0.1820194  | 0.6916030  |\n",
       "| Residuals | 4          | 1384.59404 | 346.14851  |        NA  |        NA  |\n",
       "\n"
      ],
      "text/plain": [
       "                    Df Sum Sq     Mean Sq   F value   Pr(>F)   \n",
       "sex                 1   220.85886 220.85886 0.6380466 0.4691598\n",
       "height              1   167.46968 167.46968 0.4838088 0.5249969\n",
       "weight              1    71.69192  71.69192 0.2071132 0.6726463\n",
       "intracranial.volume 1   118.97410 118.97410 0.3437082 0.5891841\n",
       "age                 1    63.00576  63.00576 0.1820194 0.6916030\n",
       "Residuals           4  1384.59404 346.14851        NA        NA"
      ]
     },
     "metadata": {},
     "output_type": "display_data"
    }
   ],
   "source": [
    "model_t1 = lm(T1w_CSA~sex+height+weight+intracranial.volume+ age)\n",
    "model_t2 = lm(T2w_CSA~sex+height+weight+intracranial.volume+ age)\n",
    "summary(model_t1)\n",
    "anova(model_t1)\n",
    "summary(model_t2)\n",
    "anova(model_t2)"
   ]
  },
  {
   "cell_type": "code",
   "execution_count": 14,
   "metadata": {},
   "outputs": [
    {
     "data": {
      "image/png": "[encoded data removed]",
      "text/plain": [
       "Plot with title \"\""
      ]
     },
     "metadata": {},
     "output_type": "display_data"
    }
   ],
   "source": [
    "par(mfrow=c(2,2))\n",
    "plot(model_t1)"
   ]
  },
  {
   "cell_type": "markdown",
   "metadata": {},
   "source": [
    "\n",
    "## Stepwise linear regression"
   ]
  },
  {
   "cell_type": "code",
   "execution_count": 15,
   "metadata": {},
   "outputs": [
    {
     "data": {
      "text/plain": [
       "\n",
       "Call:\n",
       "lm(formula = T1w_CSA ~ height + age)\n",
       "\n",
       "Coefficients:\n",
       "(Intercept)       height          age  \n",
       "   -34.3730       0.2644       0.5250  \n"
      ]
     },
     "metadata": {},
     "output_type": "display_data"
    },
    {
     "data": {
      "text/plain": [
       "\n",
       "Call:\n",
       "lm(formula = T2w_CSA ~ height)\n",
       "\n",
       "Coefficients:\n",
       "(Intercept)       height  \n",
       "   -67.6891       0.6639  \n"
      ]
     },
     "metadata": {},
     "output_type": "display_data"
    }
   ],
   "source": [
    "step(model_t1, direction=\"both\", trace=0)\n",
    "\n",
    "step(model_t2, direction=\"both\", trace=0)"
   ]
  },
  {
   "cell_type": "code",
   "execution_count": 16,
   "metadata": {},
   "outputs": [],
   "source": [
    "model_t1_step = lm(T1w_CSA~ height + age)\n",
    "model_t2_step = lm(T2w_CSA~ height)"
   ]
  },
  {
   "cell_type": "code",
   "execution_count": 17,
   "metadata": {},
   "outputs": [
    {
     "data": {
      "text/plain": [
       "\n",
       "Call:\n",
       "lm(formula = T1w_CSA ~ height + age)\n",
       "\n",
       "Residuals:\n",
       "    Min      1Q  Median      3Q     Max \n",
       "-3.1181 -2.6780 -0.4211  2.2640  5.2240 \n",
       "\n",
       "Coefficients:\n",
       "            Estimate Std. Error t value Pr(>|t|)  \n",
       "(Intercept) -34.3730    24.3299  -1.413   0.2006  \n",
       "height        0.2644     0.1145   2.309   0.0543 .\n",
       "age           0.5250     0.1679   3.127   0.0167 *\n",
       "---\n",
       "Signif. codes:  0 '***' 0.001 '**' 0.01 '*' 0.05 '.' 0.1 ' ' 1\n",
       "\n",
       "Residual standard error: 3.344 on 7 degrees of freedom\n",
       "Multiple R-squared:  0.6491,\tAdjusted R-squared:  0.5488 \n",
       "F-statistic: 6.473 on 2 and 7 DF,  p-value: 0.02561\n"
      ]
     },
     "metadata": {},
     "output_type": "display_data"
    },
    {
     "data": {
      "text/html": [
       "<table>\n",
       "<thead><tr><th></th><th scope=col>Df</th><th scope=col>Sum Sq</th><th scope=col>Mean Sq</th><th scope=col>F value</th><th scope=col>Pr(&gt;F)</th></tr></thead>\n",
       "<tbody>\n",
       "\t<tr><th scope=row>height</th><td>1         </td><td> 35.44871 </td><td> 35.44871 </td><td>3.170437  </td><td>0.11819603</td></tr>\n",
       "\t<tr><th scope=row>age</th><td>1         </td><td>109.30263 </td><td>109.30263 </td><td>9.775733  </td><td>0.01668849</td></tr>\n",
       "\t<tr><th scope=row>Residuals</th><td>7         </td><td> 78.26711 </td><td> 11.18102 </td><td>      NA  </td><td>        NA</td></tr>\n",
       "</tbody>\n",
       "</table>\n"
      ],
      "text/latex": [
       "\\begin{tabular}{r|lllll}\n",
       "  & Df & Sum Sq & Mean Sq & F value & Pr(>F)\\\\\n",
       "\\hline\n",
       "\theight & 1          &  35.44871  &  35.44871  & 3.170437   & 0.11819603\\\\\n",
       "\tage & 1          & 109.30263  & 109.30263  & 9.775733   & 0.01668849\\\\\n",
       "\tResiduals & 7          &  78.26711  &  11.18102  &       NA   &         NA\\\\\n",
       "\\end{tabular}\n"
      ],
      "text/markdown": [
       "\n",
       "| <!--/--> | Df | Sum Sq | Mean Sq | F value | Pr(>F) |\n",
       "|---|---|---|---|---|---|\n",
       "| height | 1          |  35.44871  |  35.44871  | 3.170437   | 0.11819603 |\n",
       "| age | 1          | 109.30263  | 109.30263  | 9.775733   | 0.01668849 |\n",
       "| Residuals | 7          |  78.26711  |  11.18102  |       NA   |         NA |\n",
       "\n"
      ],
      "text/plain": [
       "          Df Sum Sq    Mean Sq   F value  Pr(>F)    \n",
       "height    1   35.44871  35.44871 3.170437 0.11819603\n",
       "age       1  109.30263 109.30263 9.775733 0.01668849\n",
       "Residuals 7   78.26711  11.18102       NA         NA"
      ]
     },
     "metadata": {},
     "output_type": "display_data"
    },
    {
     "data": {
      "text/plain": [
       "\n",
       "Call:\n",
       "lm(formula = T2w_CSA ~ height)\n",
       "\n",
       "Residuals:\n",
       "    Min      1Q  Median      3Q     Max \n",
       "-33.799  -3.090   1.932   8.585  15.220 \n",
       "\n",
       "Coefficients:\n",
       "            Estimate Std. Error t value Pr(>|t|)\n",
       "(Intercept) -67.6891    80.4285  -0.842    0.424\n",
       "height        0.6639     0.4823   1.377    0.206\n",
       "\n",
       "Residual standard error: 14.31 on 8 degrees of freedom\n",
       "Multiple R-squared:  0.1915,\tAdjusted R-squared:  0.09047 \n",
       "F-statistic: 1.895 on 1 and 8 DF,  p-value: 0.2059\n"
      ]
     },
     "metadata": {},
     "output_type": "display_data"
    },
    {
     "data": {
      "text/html": [
       "<table>\n",
       "<thead><tr><th></th><th scope=col>Df</th><th scope=col>Sum Sq</th><th scope=col>Mean Sq</th><th scope=col>F value</th><th scope=col>Pr(&gt;F)</th></tr></thead>\n",
       "<tbody>\n",
       "\t<tr><th scope=row>height</th><td>1        </td><td> 388.1431</td><td>388.1431 </td><td>1.895171 </td><td>0.2059153</td></tr>\n",
       "\t<tr><th scope=row>Residuals</th><td>8        </td><td>1638.4512</td><td>204.8064 </td><td>      NA </td><td>       NA</td></tr>\n",
       "</tbody>\n",
       "</table>\n"
      ],
      "text/latex": [
       "\\begin{tabular}{r|lllll}\n",
       "  & Df & Sum Sq & Mean Sq & F value & Pr(>F)\\\\\n",
       "\\hline\n",
       "\theight & 1         &  388.1431 & 388.1431  & 1.895171  & 0.2059153\\\\\n",
       "\tResiduals & 8         & 1638.4512 & 204.8064  &       NA  &        NA\\\\\n",
       "\\end{tabular}\n"
      ],
      "text/markdown": [
       "\n",
       "| <!--/--> | Df | Sum Sq | Mean Sq | F value | Pr(>F) |\n",
       "|---|---|---|---|---|---|\n",
       "| height | 1         |  388.1431 | 388.1431  | 1.895171  | 0.2059153 |\n",
       "| Residuals | 8         | 1638.4512 | 204.8064  |       NA  |        NA |\n",
       "\n"
      ],
      "text/plain": [
       "          Df Sum Sq    Mean Sq  F value  Pr(>F)   \n",
       "height    1   388.1431 388.1431 1.895171 0.2059153\n",
       "Residuals 8  1638.4512 204.8064       NA        NA"
      ]
     },
     "metadata": {},
     "output_type": "display_data"
    }
   ],
   "source": [
    "summary(model_t1_step)\n",
    "anova(model_t1_step)\n",
    "summary(model_t2_step)\n",
    "anova(model_t2_step)"
   ]
  },
  {
   "cell_type": "code",
   "execution_count": 18,
   "metadata": {},
   "outputs": [
    {
     "data": {
      "image/png": "[encoded data removed]",
      "text/plain": [
       "Plot with title \"\""
      ]
     },
     "metadata": {},
     "output_type": "display_data"
    },
    {
     "data": {
      "image/png": "[encoded data removed]",
      "text/plain": [
       "Plot with title \"\""
      ]
     },
     "metadata": {},
     "output_type": "display_data"
    }
   ],
   "source": [
    "par(mfrow=c(2,2))\n",
    "plot(model_t1_step)\n",
    "par(mfrow=c(2,2))\n",
    "plot(model_t2_step)"
   ]
  }
 ],
 "metadata": {
  "kernelspec": {
   "display_name": "R",
   "language": "R",
   "name": "ir"
  },
  "language_info": {
   "codemirror_mode": "r",
   "file_extension": ".r",
   "mimetype": "text/x-r-source",
   "name": "R",
   "pygments_lexer": "r",
   "version": "3.6.1"
  }
 },
 "nbformat": 4,
 "nbformat_minor": 2
}
